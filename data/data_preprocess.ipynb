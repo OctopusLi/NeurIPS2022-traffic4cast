{
 "cells": [
  {
   "cell_type": "code",
   "execution_count": 7,
   "metadata": {},
   "outputs": [],
   "source": [
    "import os\n",
    "import sys\n",
    "sys.path.insert(0, os.path.abspath(\"../\"))\n",
    "import pandas\n",
    "import numpy as np\n",
    "import torch\n",
    "from pathlib import Path\n",
    "import t4c22\n",
    "from t4c22.misc.t4c22_logging import t4c_apply_basic_logging_config\n",
    "from t4c22.t4c22_config import load_basedir\n",
    "from t4c22.misc.parquet_helpers import load_df_from_parquet\n",
    "from tqdm import tqdm\n",
    "t4c_apply_basic_logging_config(loglevel=\"DEBUG\")\n",
    "# Load BASEDIR from file, change to your data root.\n",
    "BASEDIR = load_basedir(fn=\"t4c22_config.json\", pkg=t4c22)"
   ]
  },
  {
   "cell_type": "code",
   "execution_count": 2,
   "metadata": {},
   "outputs": [],
   "source": [
    "def trans_tunnel(x):\n",
    "    if x == '':\n",
    "        return 0\n",
    "    else:\n",
    "        return 1\n",
    "def tran_counter_dis(x):\n",
    "    if x == 0:\n",
    "        x = 0.5\n",
    "    return 1/x\n",
    "def trans_lanes(x):\n",
    "    if x =='':\n",
    "        return 0\n",
    "    if isinstance (eval(x),int):\n",
    "        y =  int(x)\n",
    "    elif isinstance (eval(x),list):\n",
    "        y = int(max(eval(x)))\n",
    "    else:\n",
    "        y =  int(eval(x))\n",
    "    if y > 4:\n",
    "        return 4\n",
    "    else:\n",
    "        return y-1\n",
    "def trans_oneway(x):\n",
    "    if x == 'False':\n",
    "        return 0\n",
    "    else:\n",
    "        return 1\n",
    "def trans_edge_attr(city):\n",
    "    df_edge = load_df_from_parquet(BASEDIR/'road_graph'/city/'road_graph_edges.parquet')\n",
    "    df_edge['oneway'] = df_edge['oneway'].apply(lambda x: trans_oneway(x))\n",
    "    df_edge['tunnel'] = df_edge['tunnel'].apply(lambda x: trans_tunnel(x))\n",
    "    df_edge['counter_distance'] = df_edge['counter_distance'].apply(lambda x: tran_counter_dis(x))\n",
    "    df_edge['lanes'] = df_edge['lanes'].apply(lambda x: trans_lanes(x))\n",
    "    df_edge.to_parquet(BASEDIR/'road_graph'/city/'road_graph_edges.parquet',compression='snappy')\n",
    "for city in [\"london\",\"madrid\",\"melbourne\"]:\n",
    "    trans_edge_attr(city)"
   ]
  },
  {
   "cell_type": "code",
   "execution_count": 5,
   "metadata": {},
   "outputs": [
    {
     "name": "stderr",
     "output_type": "stream",
     "text": [
      "100%|██████████| 110/110 [01:49<00:00,  1.01it/s]\n"
     ]
    },
    {
     "name": "stdout",
     "output_type": "stream",
     "text": [
      "free_flow_low:  149\n"
     ]
    },
    {
     "name": "stderr",
     "output_type": "stream",
     "text": [
      "100%|██████████| 132233/132233 [01:24<00:00, 1562.34it/s]\n",
      "100%|██████████| 109/109 [02:29<00:00,  1.37s/it]\n"
     ]
    },
    {
     "name": "stdout",
     "output_type": "stream",
     "text": [
      "free_flow_low:  613\n"
     ]
    },
    {
     "name": "stderr",
     "output_type": "stream",
     "text": [
      "100%|██████████| 121250/121250 [01:16<00:00, 1580.24it/s]\n",
      "100%|██████████| 108/108 [00:33<00:00,  3.22it/s]\n"
     ]
    },
    {
     "name": "stdout",
     "output_type": "stream",
     "text": [
      "free_flow_low:  1793\n"
     ]
    },
    {
     "name": "stderr",
     "output_type": "stream",
     "text": [
      "100%|██████████| 92926/92926 [00:56<00:00, 1655.40it/s]\n"
     ]
    }
   ],
   "source": [
    "def get_edge_flow(city):\n",
    "    edge_free_flows_kph = {}\n",
    "    free_flow_low = set()\n",
    "    sc_files = sorted((BASEDIR / 'speed_classes' / city ).glob('*.parquet'))\n",
    "    for i in tqdm(range(len(sc_files))):  # reading from every 5th file seems sufficient\n",
    "        sc_df = pandas.read_parquet(sc_files[i])\n",
    "        for u, v, ff in zip(sc_df[\"u\"], sc_df[\"v\"], sc_df[\"free_flow_kph\"]):\n",
    "            if ff < 8 or ff != ff:  # Check for too low or NaN values\n",
    "                free_flow_low.add((u, v))\n",
    "                continue\n",
    "            edge_free_flows_kph[(u, v)] = ff\n",
    "    print(\"free_flow_low: \",len(free_flow_low))\n",
    "    df_edge = pandas.read_parquet(BASEDIR/'road_graph'/city/'road_graph_edges.parquet')\n",
    "\n",
    "    df_edge['flow'] = df_edge['parsed_maxspeed']\n",
    "    for uv,f in tqdm(edge_free_flows_kph.items()):\n",
    "\n",
    "        df_edge.iloc[df_edge[(df_edge['u'] == uv[0]) & (df_edge['v'] == uv[1])].index,-1]= f\n",
    "    df_edge.to_parquet(BASEDIR/'road_graph'/city/'road_graph_edges.parquet', compression='snappy')\n",
    "for city in [\"london\",\"madrid\",\"melbourne\"]:\n",
    "    get_edge_flow(city)"
   ]
  },
  {
   "cell_type": "code",
   "execution_count": 9,
   "metadata": {},
   "outputs": [],
   "source": [
    "def free_flow_speed_limit(free_flow_kph, speed_limit_kph):\n",
    "    if not free_flow_kph or np.isnan(free_flow_kph) or free_flow_kph < 20:\n",
    "        free_flow_kph = 20\n",
    "    if speed_limit_kph >= 5 and free_flow_kph > speed_limit_kph:\n",
    "        free_flow_kph = speed_limit_kph\n",
    "    # Reduce free flow to max 60% but not below, e.g. 32->20, 50->30, 80->48, 110->66\n",
    "    free_flow_kph = max(free_flow_kph, speed_limit_kph * 0.6)\n",
    "    return free_flow_kph\n",
    "    \n",
    "def get_edge_limit_speed(city):\n",
    "    df_edge = pandas.read_parquet(BASEDIR/'road_graph'/city/'road_graph_edges.parquet')\n",
    "    speed_limit_kph = torch.from_numpy(np.array(df_edge[\"parsed_maxspeed\"].values,dtype=float))\n",
    "    free_flow_kph = torch.from_numpy(np.array(df_edge[\"flow\"].values,dtype=float))\n",
    "    limit_speed = []\n",
    "    for i in range(len(df_edge)):\n",
    "        speed = free_flow_speed_limit(free_flow_kph[i], speed_limit_kph[i])\n",
    "        limit_speed.append(1/speed)\n",
    "    df_edge[\"limit_speed\"] = np.array(limit_speed)\n",
    "    df_edge.to_parquet(BASEDIR/'road_graph'/city/'road_graph_edges.parquet', compression='snappy')\n",
    "for city in [\"london\",\"madrid\",\"melbourne\"]:\n",
    "    get_edge_limit_speed(city)"
   ]
  },
  {
   "cell_type": "code",
   "execution_count": 15,
   "metadata": {},
   "outputs": [],
   "source": [
    "\n",
    "def get_new_edge_index(city):\n",
    "    raw_edges = pandas.read_parquet(BASEDIR/'road_graph'/city/\"road_graph_edges.parquet\")\n",
    "    raw_nodes = pandas.read_parquet(BASEDIR/'road_graph'/city/\"road_graph_nodes.parquet\")\n",
    "\n",
    "    raw_edges[\"e_id\"] = raw_edges.index\n",
    "    raw_edges = raw_edges[['u','v','e_id']]\n",
    "    # raw_edges\n",
    "    nodes = list(raw_nodes[\"node_id\"].values)\n",
    "    new_edges = []\n",
    "    node_id_map = {}\n",
    "    for i,k in enumerate(nodes):\n",
    "        node_id_map[k] = i\n",
    "    for node in tqdm(nodes):\n",
    "        a = raw_edges[raw_edges['v'] == node]\n",
    "        if a.empty:\n",
    "            continue\n",
    "        a = a.copy().reset_index()\n",
    "        b = raw_edges[raw_edges['u'] == node]\n",
    "        if b.empty:\n",
    "            continue\n",
    "        b = b.copy().reset_index()\n",
    "        for i in range(len(a)):\n",
    "            for j in range(len(b)):\n",
    "                eu = a.iloc[i,3]\n",
    "                ev = b.iloc[j,3]\n",
    "                new_edges.append((eu,ev))\n",
    "    \n",
    "    new_edges = np.array(new_edges).T\n",
    "    \n",
    "    np.save(BASEDIR/'road_graph'/city/\"new_edge_index.npy\",new_edges)\n",
    "    print(new_edges.shape)\n",
    "    return new_edges"
   ]
  },
  {
   "cell_type": "code",
   "execution_count": null,
   "metadata": {},
   "outputs": [],
   "source": [
    "for city in [\"london\",\"madrid\",\"melbourne\"]:\n",
    "    get_new_edge_index(city)"
   ]
  },
  {
   "cell_type": "code",
   "execution_count": null,
   "metadata": {},
   "outputs": [],
   "source": []
  }
 ],
 "metadata": {
  "kernelspec": {
   "display_name": "Python 3.10.6 ('t42cc_new')",
   "language": "python",
   "name": "python3"
  },
  "language_info": {
   "codemirror_mode": {
    "name": "ipython",
    "version": 3
   },
   "file_extension": ".py",
   "mimetype": "text/x-python",
   "name": "python",
   "nbconvert_exporter": "python",
   "pygments_lexer": "ipython3",
   "version": "3.10.6"
  },
  "orig_nbformat": 4,
  "vscode": {
   "interpreter": {
    "hash": "a0185332c97191375c0c94907baba5b225abd32366a26944fb5befcbb05e864d"
   }
  }
 },
 "nbformat": 4,
 "nbformat_minor": 2
}
